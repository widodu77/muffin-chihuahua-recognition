{
  "cells": [
    {
      "cell_type": "code",
      "execution_count": 1,
      "metadata": {
        "dotnet_interactive": {
          "language": "csharp"
        },
        "polyglot_notebook": {
          "kernelName": "csharp"
        }
      },
      "outputs": [],
      "source": [
        "import torch\n",
        "import torch.nn as nn\n",
        "import torch.optim as optim\n",
        "from torch.utils.data import DataLoader, Dataset\n",
        "from torchvision import transforms\n",
        "from torchvision.datasets import ImageFolder\n",
        "import matplotlib.pyplot as plt"
      ]
    },
    {
      "cell_type": "code",
      "execution_count": 2,
      "metadata": {
        "dotnet_interactive": {
          "language": "csharp"
        },
        "polyglot_notebook": {
          "kernelName": "csharp"
        }
      },
      "outputs": [],
      "source": [
        "# MLP : multi layer perceptron\n",
        "class MLP1(nn.Module):\n",
        "    def __init__(self, input_size, hidden_size, output_size=2):\n",
        "        super(MLP1, self).__init__()\n",
        "        self.fc1 = nn.Linear(input_size, hidden_size)\n",
        "        self.relu = nn.ReLU()\n",
        "        self.fc2 = nn.Linear(hidden_size, output_size)\n",
        "\n",
        "    def forward(self, x):\n",
        "        out = self.fc1(x)\n",
        "        out = self.relu(out)\n",
        "        out = self.fc2(out)\n",
        "        return out"
      ]
    },
    {
      "cell_type": "code",
      "execution_count": 3,
      "metadata": {
        "dotnet_interactive": {
          "language": "csharp"
        },
        "polyglot_notebook": {
          "kernelName": "csharp"
        }
      },
      "outputs": [],
      "source": [
        "input_size, hidden_size, output_size = 64*64*3, 64*64*3, 2"
      ]
    },
    {
      "cell_type": "code",
      "execution_count": 4,
      "metadata": {
        "dotnet_interactive": {
          "language": "csharp"
        },
        "polyglot_notebook": {
          "kernelName": "csharp"
        }
      },
      "outputs": [],
      "source": [
        "# Model initialization\n",
        "model = MLP1(input_size, hidden_size, output_size)\n",
        "\n",
        "# The loss function\n",
        "criterion = nn.CrossEntropyLoss()"
      ]
    },
    {
      "cell_type": "markdown",
      "metadata": {
        "id": "hGhLmB3m9IhX"
      },
      "source": [
        "Binary cross entropy loss\n",
        "$$\n",
        "-{(y\\log(p) + (1 - y)\\log(1 - p))}\n",
        "$$\n",
        "where\n",
        "\n",
        "\n",
        "*   p is the predicted probability that the instance belongs to class 0\n",
        "*   y is the ground truth class {0, 1}\n",
        "\n",
        "\n"
      ]
    },
    {
      "cell_type": "code",
      "execution_count": 5,
      "metadata": {
        "dotnet_interactive": {
          "language": "csharp"
        },
        "polyglot_notebook": {
          "kernelName": "csharp"
        }
      },
      "outputs": [],
      "source": [
        "# Our optimizer\n",
        "optimizer = optim.Adam(model.parameters(), lr=0.001) # lr = learning rate"
      ]
    },
    {
      "cell_type": "code",
      "execution_count": 6,
      "metadata": {
        "dotnet_interactive": {
          "language": "csharp"
        },
        "polyglot_notebook": {
          "kernelName": "csharp"
        }
      },
      "outputs": [],
      "source": [
        "# Define custom dataset class\n",
        "class CustomDataset(torch.utils.data.Dataset):\n",
        "    def __init__(self, root_dir, transform=None):\n",
        "        self.dataset = ImageFolder(\"./dataset\", transform=transform)\n",
        "\n",
        "    def __len__(self):\n",
        "        return len(self.dataset)\n",
        "\n",
        "    def __getitem__(self, idx):\n",
        "        image, label = self.dataset[idx]\n",
        "        return image, label\n",
        "\n",
        "# Define transformation to be applied to images\n",
        "transform = transforms.Compose([\n",
        "    transforms.Resize((64, 64)),  # Resize images to 64x64\n",
        "    transforms.ToTensor()          # Convert images to PyTorch tensors\n",
        "])\n",
        "\n",
        "# Create custom dataset instances for training and validation\n",
        "train_dataset = CustomDataset(root_dir='dataset', transform=transform)\n",
        "\n",
        "# Split the dataset into training and validation sets\n",
        "train_size = int(0.8 * len(train_dataset))\n",
        "valid_size = len(train_dataset) - train_size\n",
        "train_dataset, valid_dataset = torch.utils.data.random_split(train_dataset, [train_size, valid_size])\n",
        "\n",
        "# Create DataLoader instances for training and validation\n",
        "train_loader = torch.utils.data.DataLoader(train_dataset, batch_size=32, shuffle=True)\n",
        "valid_loader = torch.utils.data.DataLoader(valid_dataset, batch_size=32, shuffle=False)\n"
      ]
    },
    {
      "cell_type": "code",
      "execution_count": 7,
      "metadata": {
        "dotnet_interactive": {
          "language": "csharp"
        },
        "polyglot_notebook": {
          "kernelName": "csharp"
        }
      },
      "outputs": [],
      "source": [
        "# ! rmdir dataset/.ipynb_checkpoints"
      ]
    },
    {
      "cell_type": "code",
      "execution_count": 8,
      "metadata": {
        "dotnet_interactive": {
          "language": "csharp"
        },
        "polyglot_notebook": {
          "kernelName": "csharp"
        }
      },
      "outputs": [],
      "source": [
        "# ! rm -rf dataset/chihuahua/img*"
      ]
    },
    {
      "cell_type": "code",
      "execution_count": 9,
      "metadata": {
        "dotnet_interactive": {
          "language": "csharp"
        },
        "polyglot_notebook": {
          "kernelName": "csharp"
        }
      },
      "outputs": [],
      "source": [
        " # [RGB dim, dim1 dim2]"
      ]
    },
    {
      "cell_type": "code",
      "execution_count": 10,
      "metadata": {
        "dotnet_interactive": {
          "language": "csharp"
        },
        "polyglot_notebook": {
          "kernelName": "csharp"
        }
      },
      "outputs": [
        {
          "name": "stdout",
          "output_type": "stream",
          "text": [
            "Epoch [1/10], Train Loss: 9.1565, Validation Loss: 1.3567\n",
            "Epoch [2/10], Train Loss: 1.1852, Validation Loss: 1.3999\n",
            "Epoch [3/10], Train Loss: 0.6662, Validation Loss: 0.5972\n",
            "Epoch [4/10], Train Loss: 0.5642, Validation Loss: 0.5700\n",
            "Epoch [5/10], Train Loss: 0.5675, Validation Loss: 0.5724\n",
            "Epoch [6/10], Train Loss: 0.5365, Validation Loss: 0.6722\n",
            "Epoch [7/10], Train Loss: 0.5248, Validation Loss: 0.5612\n",
            "Epoch [8/10], Train Loss: 0.4722, Validation Loss: 0.5860\n",
            "Epoch [9/10], Train Loss: 0.5993, Validation Loss: 0.5980\n",
            "Epoch [10/10], Train Loss: 0.4560, Validation Loss: 0.6638\n"
          ]
        },
        {
          "data": {
            "image/png": "[encoded data removed]",
            "text/plain": [
              "<Figure size 640x480 with 1 Axes>"
            ]
          },
          "metadata": {},
          "output_type": "display_data"
        }
      ],
      "source": [
        "# Lists to store training and validation errors\n",
        "train_errors = []\n",
        "val_errors = []\n",
        "\n",
        "# Training loop\n",
        "min_loss = 0.45\n",
        "num_epochs = 10\n",
        "for epoch in range(num_epochs):\n",
        "    # Training\n",
        "    model.train()  # Set the model to training mode\n",
        "    total_train_loss = 0.0\n",
        "    for images, labels in train_loader:\n",
        "        # Forward pass\n",
        "        outputs = model(images.view(images.size(0), -1))\n",
        "        loss = criterion(outputs, labels)\n",
        "\n",
        "        # Backward pass and optimization\n",
        "        optimizer.zero_grad()\n",
        "        loss.backward()\n",
        "        optimizer.step()\n",
        "\n",
        "        total_train_loss += loss.item()\n",
        "\n",
        "    # Calculate average training loss for the epoch\n",
        "    avg_train_loss = total_train_loss / len(train_loader)\n",
        "    train_errors.append(avg_train_loss)\n",
        "\n",
        "    # Validation\n",
        "    model.eval()  # Set the model to evaluation mode\n",
        "    total_val_loss = 0.0\n",
        "    with torch.no_grad():\n",
        "        for images, labels in valid_loader:\n",
        "            outputs = model(images.view(images.size(0), -1))\n",
        "            loss = criterion(outputs, labels)\n",
        "            total_val_loss += loss.item()\n",
        "\n",
        "    # Calculate average validation loss for the epoch\n",
        "    avg_val_loss = total_val_loss / len(valid_loader)\n",
        "    val_errors.append(avg_val_loss)\n",
        "\n",
        "    if avg_val_loss < min_loss:\n",
        "        torch.save(model.state_dict(), 'mlp2_model.pth')\n",
        "        break\n",
        "\n",
        "    print(f'Epoch [{epoch+1}/{num_epochs}], Train Loss: {avg_train_loss:.4f}, Validation Loss: {avg_val_loss:.4f}')\n",
        "\n",
        "# Plotting the training and validation errors\n",
        "plt.plot(range(1, num_epochs+1), train_errors, label='Training Error')\n",
        "plt.plot(range(1, num_epochs+1), val_errors, label='Validation Error')\n",
        "plt.xlabel('Epochs')\n",
        "plt.ylabel('Error')\n",
        "plt.title('Training and Validation Errors')\n",
        "plt.legend()\n",
        "plt.show()\n"
      ]
    },
    {
      "cell_type": "code",
      "execution_count": 11,
      "metadata": {
        "dotnet_interactive": {
          "language": "csharp"
        },
        "polyglot_notebook": {
          "kernelName": "csharp"
        }
      },
      "outputs": [],
      "source": [
        "# Save the trained model\n",
        "torch.save(model.state_dict(), 'mlp_model.pth')"
      ]
    },
    {
      "cell_type": "code",
      "execution_count": 12,
      "metadata": {
        "dotnet_interactive": {
          "language": "csharp"
        },
        "polyglot_notebook": {
          "kernelName": "csharp"
        }
      },
      "outputs": [
        {
          "name": "stdout",
          "output_type": "stream",
          "text": [
            "Parameter name: fc1.weight\n",
            "Parameter shape: torch.Size([12288, 12288])\n",
            "Parameter values: Parameter containing:\n",
            "tensor([[-3.3817e-03,  1.1921e-03,  6.8217e-03,  ...,  6.7844e-03,\n",
            "         -7.7476e-03, -2.6089e-03],\n",
            "        [ 1.4114e-03, -4.8188e-03, -4.8327e-03,  ..., -2.3204e-04,\n",
            "         -4.9024e-03, -6.6122e-03],\n",
            "        [-7.8554e-03,  6.6781e-03, -1.7374e-03,  ..., -3.9088e-03,\n",
            "         -1.6715e-03,  7.2260e-03],\n",
            "        ...,\n",
            "        [-9.2689e-03, -8.1420e-04, -1.6337e-03,  ..., -4.8790e-03,\n",
            "         -1.4950e-03, -3.2473e-03],\n",
            "        [-1.8943e-03, -1.4516e-02, -1.8502e-03,  ..., -1.7457e-03,\n",
            "         -1.2553e-02,  2.5627e-04],\n",
            "        [-2.6286e-04, -3.4868e-03,  3.3490e-03,  ...,  5.8895e-06,\n",
            "          2.0374e-03,  1.9409e-03]], requires_grad=True)\n",
            "Parameter name: fc1.bias\n",
            "Parameter shape: torch.Size([12288])\n",
            "Parameter values: Parameter containing:\n",
            "tensor([-0.0054, -0.0061, -0.0063,  ..., -0.0145,  0.0004,  0.0094],\n",
            "       requires_grad=True)\n",
            "Parameter name: fc2.weight\n",
            "Parameter shape: torch.Size([2, 12288])\n",
            "Parameter values: Parameter containing:\n",
            "tensor([[-0.0056, -0.0037,  0.0015,  ...,  0.0002,  0.0072,  0.0063],\n",
            "        [-0.0027, -0.0025,  0.0055,  ..., -0.0045, -0.0023,  0.0055]],\n",
            "       requires_grad=True)\n",
            "Parameter name: fc2.bias\n",
            "Parameter shape: torch.Size([2])\n",
            "Parameter values: Parameter containing:\n",
            "tensor([ 0.0047, -0.0002], requires_grad=True)\n"
          ]
        }
      ],
      "source": [
        "# Accessing the model's parameters\n",
        "for name, param in model.named_parameters():\n",
        "    print(f'Parameter name: {name}')\n",
        "    print(f'Parameter shape: {param.shape}')\n",
        "    print(f'Parameter values: {param}')"
      ]
    },
    {
      "cell_type": "code",
      "execution_count": null,
      "metadata": {
        "dotnet_interactive": {
          "language": "csharp"
        },
        "polyglot_notebook": {
          "kernelName": "csharp"
        }
      },
      "outputs": [],
      "source": []
    },
    {
      "cell_type": "code",
      "execution_count": 13,
      "metadata": {
        "dotnet_interactive": {
          "language": "csharp"
        },
        "polyglot_notebook": {
          "kernelName": "csharp"
        }
      },
      "outputs": [],
      "source": [
        "# # Define Adam optimizer\n",
        "# adam_optimizer = optim.Adam(model.parameters(), lr=0.001)\n",
        "\n",
        "# # Define LBFGS optimizer\n",
        "# lbfgs_optimizer = optim.LBFGS(model.parameters(), lr=0.01)\n",
        "\n",
        "# # Lists to store training and validation errors\n",
        "# train_errors = []\n",
        "# val_errors = []\n",
        "\n",
        "# # Training loop\n",
        "# num_epochs = 10\n",
        "# for epoch in range(num_epochs):\n",
        "#     # Training with Adam optimizer\n",
        "#     model.train()  # Set the model to training mode\n",
        "#     total_train_loss = 0.0\n",
        "#     for images, labels in train_loader:\n",
        "#         # Forward pass\n",
        "#         outputs = model(images.view(images.size(0), -1))\n",
        "#         loss = criterion(outputs, labels)\n",
        "\n",
        "#         # Backward pass and optimization with Adam\n",
        "#         adam_optimizer.zero_grad()\n",
        "#         loss.backward()\n",
        "#         adam_optimizer.step()\n",
        "\n",
        "#         total_train_loss += loss.item()\n",
        "\n",
        "#     # Training with LBFGS optimizer\n",
        "#     total_train_loss_lbfgs = 0.0\n",
        "#     def closure():\n",
        "#         lbfgs_optimizer.zero_grad()\n",
        "#         outputs = model(images.view(images.size(0), -1))\n",
        "#         loss = criterion(outputs, labels)\n",
        "#         loss.backward()\n",
        "#         return loss\n",
        "#     for images, labels in train_loader:\n",
        "#         # Optimize with LBFGS\n",
        "#         total_train_loss_lbfgs += lbfgs_optimizer.step(closure)\n",
        "\n",
        "#     # Calculate average training loss for the epoch\n",
        "#     avg_train_loss = (total_train_loss + total_train_loss_lbfgs) / (len(train_loader) * 2)\n",
        "#     train_errors.append(avg_train_loss)\n",
        "\n",
        "#     # Validation\n",
        "#     model.eval()  # Set the model to evaluation mode\n",
        "#     total_val_loss = 0.0\n",
        "#     with torch.no_grad():\n",
        "#         for images, labels in valid_loader:\n",
        "#             outputs = model(images.view(images.size(0), -1))\n",
        "#             loss = criterion(outputs, labels)\n",
        "#             total_val_loss += loss.item()\n",
        "\n",
        "#     # Calculate average validation loss for the epoch\n",
        "#     avg_val_loss = total_val_loss / len(valid_loader)\n",
        "#     val_errors.append(avg_val_loss)\n",
        "\n",
        "#     print(f'Epoch [{epoch+1}/{num_epochs}], Train Loss: {avg_train_loss:.4f}, Validation Loss: {avg_val_loss:.4f}')\n",
        "\n",
        "# # Plotting the training and validation errors\n",
        "# plt.plot(range(1, num_epochs+1), train_errors, label='Training Error')\n",
        "# plt.plot(range(1, num_epochs+1), val_errors, label='Validation Error')\n",
        "# plt.xlabel('Epochs')\n",
        "# plt.ylabel('Error')\n",
        "# plt.title('Training and Validation Errors')\n",
        "# plt.legend()\n",
        "# plt.show()\n"
      ]
    }
  ],
  "metadata": {
    "colab": {
      "provenance": []
    },
    "kernelspec": {
      "display_name": "Python 3",
      "language": "python",
      "name": "python3"
    },
    "language_info": {
      "codemirror_mode": {
        "name": "ipython",
        "version": 3
      },
      "file_extension": ".py",
      "mimetype": "text/x-python",
      "name": "python",
      "nbconvert_exporter": "python",
      "pygments_lexer": "ipython3",
      "version": "3.11.9"
    },
    "polyglot_notebook": {
      "kernelInfo": {
        "defaultKernelName": "csharp",
        "items": [
          {
            "aliases": [],
            "name": "csharp"
          }
        ]
      }
    }
  },
  "nbformat": 4,
  "nbformat_minor": 0
}
